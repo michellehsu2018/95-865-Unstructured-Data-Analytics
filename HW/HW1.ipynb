{
 "cells": [
  {
   "cell_type": "markdown",
   "metadata": {},
   "source": [
    "Name: Michelle Hsu\n",
    "\n",
    "Andrew ID: mhsu1"
   ]
  },
  {
   "cell_type": "markdown",
   "metadata": {},
   "source": [
    "### Instructions\n",
    "1. Fill in your name and Andrew ID.\n",
    "2. Fill in the code/text blocks to answer each question.\n",
    "3. Do *not* change any of the existing code provided.\n",
    "4. Run the entire notebook *before* submitting it on Canvas to make sure that the code actually runs without errors. (**Important**: Any question for which your code fails to run will receive 0 points.)\n",
    "5. Be careful about where you save data for use with this Jupyter notebook (more details on this later).\n",
    "6. Have fun!"
   ]
  },
  {
   "cell_type": "markdown",
   "metadata": {},
   "source": [
    "### [Problem 1] The Distribution of Words in a Human Language: Zipf's Law [45 pts]\n",
    "\n",
    "In this problem, you will be looking at a phenomenon of \"natural languages\" (i.e., human languages, such as English). As it turns out, when we look at the distribution of words in a different human languages, the distribution roughly follows what's called *Zipf's law* ([Wikipedia](https://en.wikipedia.org/wiki/Zipf%27s_law)).\n",
    "\n",
    "*Zipf's law* states that given a large sample of words used, any word's frequency is inversely proportional to its rank in the frequency table (the word with rank 1 is the most frequently occurring word, the word with rank 2 is the second most frequently occurring word, etc). In this problem, you are going to test Zipf's law on a real dataset and explore some of its properties.\n",
    "\n",
    "This problem assumes you have already installed the `spaCy` package (https://spacy.io). Instructions for installing this are part of the tutorial file \"`95-865 Anaconda and Jupyter setup tutorial.pdf`\". You can find how to access lemmatized tokens using `spaCy` by looking at the `spaCy` demo Jupyter notebook from lecture (we have included it in this homework assignment as the file \"`95-865 spaCy demo.ipynb`\").\n",
    "\n",
    "Note: For this problem, you don't actually need `spaCy`'s named entity recognition, grammatical parsing, or part-of-speech tagging. Turning these elements off when you instantiate the nlp object can substantially speed up your code.  To make sure these are off when instantiating the nlp object, call: \n",
    "\n",
    "`\n",
    "nlp = spacy.load('en', disable=['ner', 'parser', 'tagger'])\n",
    "`\n",
    "\n",
    "\n",
    "(a) [5 pts] Read the data files.\n",
    "\n",
    "The dataset is a collection of the 100 most popular books downloaded from Gutenburg Project (https://www.gutenberg.org/browse/scores/top). Each file contains the text of a book. Now read all the texts from disk. This will be the corpus in this problem.\n",
    "\n",
    "Note: Please DO NOT change the folder name or the path, and make sure you use a relative path (e.g. './HW1_Dataset/*filename*) when reading the files. When grading your homework, we will put your Jupyter notebook file and the dataset in the same folder, and run your code. **You will receive 0 points for this problem if your code fails to load the data.**\n",
    "\n",
    "Hint: To list all files that match a certain pattern, you can use the `glob` package. Here's an example usage:\n",
    "\n",
    "`\n",
    "import glob\n",
    "print(glob.glob('./HW1_Dataset/*.txt'))\n",
    "`\n",
    "\n",
    "Hint: When debugging your code, you may want to first make sure your code runs on a few of the books rather than all 100 (for example, you can start by only having 3 of the text files in `HW1_Dataset`). Once you're confident that your solution is correct on a few text files, then run on all of them! This is a standard approach to debugging code that is meant to handle large datasets."
   ]
  },
  {
   "cell_type": "code",
   "execution_count": 1,
   "metadata": {
    "collapsed": true
   },
   "outputs": [],
   "source": [
    "import spacy\n",
    "nlp = spacy.load('en', disable=['ner', 'parser', 'tagger']) \n",
    "import glob\n",
    "filename = glob.glob('./HW1_Dataset/*.txt')"
   ]
  },
  {
   "cell_type": "code",
   "execution_count": 2,
   "metadata": {
    "collapsed": true
   },
   "outputs": [],
   "source": [
    "text = \" \"\n",
    "for i in filename:\n",
    "    text = text + open(i).read()"
   ]
  },
  {
   "cell_type": "markdown",
   "metadata": {},
   "source": [
    "(b) [15 pts] Build the frequency table. Specifically, complete the following three tasks:\n",
    "\n",
    "  1. Process the text by separating and lemmatizing the words.\n",
    "  2. Then count the number of times each word appears in the corpus and build a frequency table. (In particular, use raw counts as the \"frequency\"--do not divide by the total number of words in the corpus.)\n",
    "  3. Sort the table and print the top 50 most frequent words, along with their frequencies and ranks.\n",
    "\n",
    "Note: When counting the words, only include words (tokens) that consist of alphabetic letters (a-z and A-Z). You can do this with what's called a *regular expression*. For example, to check whether the words \"will.i.am\" or \"Tesla\" are alphabetic, you would do the following:\n",
    "\n",
    "`\n",
    "import re  # regular expression package\n",
    "if re.match('[a-zA-Z]+$', 'will.i.am'):\n",
    "    print('will.i.am consists only of alphabetic letters!')\n",
    "if re.match('[a-zA-Z]+$', 'Tesla'):\n",
    "    print('tesla consists only of alphabetic letters!')\n",
    "`"
   ]
  },
  {
   "cell_type": "code",
   "execution_count": 3,
   "metadata": {
    "collapsed": true
   },
   "outputs": [],
   "source": [
    "parsed_text = nlp(text)"
   ]
  },
  {
   "cell_type": "code",
   "execution_count": 4,
   "metadata": {},
   "outputs": [
    {
     "data": {
      "text/html": [
       "<div>\n",
       "<style>\n",
       "    .dataframe thead tr:only-child th {\n",
       "        text-align: right;\n",
       "    }\n",
       "\n",
       "    .dataframe thead th {\n",
       "        text-align: left;\n",
       "    }\n",
       "\n",
       "    .dataframe tbody tr th {\n",
       "        vertical-align: top;\n",
       "    }\n",
       "</style>\n",
       "<table border=\"1\" class=\"dataframe\">\n",
       "  <thead>\n",
       "    <tr style=\"text-align: right;\">\n",
       "      <th></th>\n",
       "      <th>Word</th>\n",
       "      <th>Frequency</th>\n",
       "    </tr>\n",
       "    <tr>\n",
       "      <th>Rank</th>\n",
       "      <th></th>\n",
       "      <th></th>\n",
       "    </tr>\n",
       "  </thead>\n",
       "  <tbody>\n",
       "    <tr>\n",
       "      <th>1</th>\n",
       "      <td>the</td>\n",
       "      <td>648221</td>\n",
       "    </tr>\n",
       "    <tr>\n",
       "      <th>2</th>\n",
       "      <td>be</td>\n",
       "      <td>427198</td>\n",
       "    </tr>\n",
       "    <tr>\n",
       "      <th>3</th>\n",
       "      <td>and</td>\n",
       "      <td>394399</td>\n",
       "    </tr>\n",
       "    <tr>\n",
       "      <th>4</th>\n",
       "      <td>of</td>\n",
       "      <td>378295</td>\n",
       "    </tr>\n",
       "    <tr>\n",
       "      <th>5</th>\n",
       "      <td>a</td>\n",
       "      <td>337297</td>\n",
       "    </tr>\n",
       "    <tr>\n",
       "      <th>6</th>\n",
       "      <td>to</td>\n",
       "      <td>314597</td>\n",
       "    </tr>\n",
       "    <tr>\n",
       "      <th>7</th>\n",
       "      <td>in</td>\n",
       "      <td>192739</td>\n",
       "    </tr>\n",
       "    <tr>\n",
       "      <th>8</th>\n",
       "      <td>I</td>\n",
       "      <td>188246</td>\n",
       "    </tr>\n",
       "    <tr>\n",
       "      <th>9</th>\n",
       "      <td>have</td>\n",
       "      <td>186525</td>\n",
       "    </tr>\n",
       "    <tr>\n",
       "      <th>10</th>\n",
       "      <td>that</td>\n",
       "      <td>161248</td>\n",
       "    </tr>\n",
       "    <tr>\n",
       "      <th>11</th>\n",
       "      <td>it</td>\n",
       "      <td>113563</td>\n",
       "    </tr>\n",
       "    <tr>\n",
       "      <th>12</th>\n",
       "      <td>not</td>\n",
       "      <td>109370</td>\n",
       "    </tr>\n",
       "    <tr>\n",
       "      <th>13</th>\n",
       "      <td>he</td>\n",
       "      <td>108068</td>\n",
       "    </tr>\n",
       "    <tr>\n",
       "      <th>14</th>\n",
       "      <td>his</td>\n",
       "      <td>103577</td>\n",
       "    </tr>\n",
       "    <tr>\n",
       "      <th>15</th>\n",
       "      <td>with</td>\n",
       "      <td>97311</td>\n",
       "    </tr>\n",
       "    <tr>\n",
       "      <th>16</th>\n",
       "      <td>you</td>\n",
       "      <td>96055</td>\n",
       "    </tr>\n",
       "    <tr>\n",
       "      <th>17</th>\n",
       "      <td>for</td>\n",
       "      <td>85044</td>\n",
       "    </tr>\n",
       "    <tr>\n",
       "      <th>18</th>\n",
       "      <td>my</td>\n",
       "      <td>67638</td>\n",
       "    </tr>\n",
       "    <tr>\n",
       "      <th>19</th>\n",
       "      <td>this</td>\n",
       "      <td>66436</td>\n",
       "    </tr>\n",
       "    <tr>\n",
       "      <th>20</th>\n",
       "      <td>her</td>\n",
       "      <td>66397</td>\n",
       "    </tr>\n",
       "    <tr>\n",
       "      <th>21</th>\n",
       "      <td>at</td>\n",
       "      <td>60422</td>\n",
       "    </tr>\n",
       "    <tr>\n",
       "      <th>22</th>\n",
       "      <td>on</td>\n",
       "      <td>59621</td>\n",
       "    </tr>\n",
       "    <tr>\n",
       "      <th>23</th>\n",
       "      <td>do</td>\n",
       "      <td>59514</td>\n",
       "    </tr>\n",
       "    <tr>\n",
       "      <th>24</th>\n",
       "      <td>him</td>\n",
       "      <td>58621</td>\n",
       "    </tr>\n",
       "    <tr>\n",
       "      <th>25</th>\n",
       "      <td>by</td>\n",
       "      <td>58315</td>\n",
       "    </tr>\n",
       "    <tr>\n",
       "      <th>26</th>\n",
       "      <td>say</td>\n",
       "      <td>57996</td>\n",
       "    </tr>\n",
       "    <tr>\n",
       "      <th>27</th>\n",
       "      <td>me</td>\n",
       "      <td>57913</td>\n",
       "    </tr>\n",
       "    <tr>\n",
       "      <th>28</th>\n",
       "      <td>which</td>\n",
       "      <td>57185</td>\n",
       "    </tr>\n",
       "    <tr>\n",
       "      <th>29</th>\n",
       "      <td>all</td>\n",
       "      <td>54975</td>\n",
       "    </tr>\n",
       "    <tr>\n",
       "      <th>30</th>\n",
       "      <td>but</td>\n",
       "      <td>54373</td>\n",
       "    </tr>\n",
       "    <tr>\n",
       "      <th>31</th>\n",
       "      <td>The</td>\n",
       "      <td>51617</td>\n",
       "    </tr>\n",
       "    <tr>\n",
       "      <th>32</th>\n",
       "      <td>much</td>\n",
       "      <td>49285</td>\n",
       "    </tr>\n",
       "    <tr>\n",
       "      <th>33</th>\n",
       "      <td>they</td>\n",
       "      <td>48283</td>\n",
       "    </tr>\n",
       "    <tr>\n",
       "      <th>34</th>\n",
       "      <td>from</td>\n",
       "      <td>47775</td>\n",
       "    </tr>\n",
       "    <tr>\n",
       "      <th>35</th>\n",
       "      <td>or</td>\n",
       "      <td>44776</td>\n",
       "    </tr>\n",
       "    <tr>\n",
       "      <th>36</th>\n",
       "      <td>will</td>\n",
       "      <td>43240</td>\n",
       "    </tr>\n",
       "    <tr>\n",
       "      <th>37</th>\n",
       "      <td>so</td>\n",
       "      <td>41933</td>\n",
       "    </tr>\n",
       "    <tr>\n",
       "      <th>38</th>\n",
       "      <td>can</td>\n",
       "      <td>41622</td>\n",
       "    </tr>\n",
       "    <tr>\n",
       "      <th>39</th>\n",
       "      <td>she</td>\n",
       "      <td>41240</td>\n",
       "    </tr>\n",
       "    <tr>\n",
       "      <th>40</th>\n",
       "      <td>And</td>\n",
       "      <td>40296</td>\n",
       "    </tr>\n",
       "    <tr>\n",
       "      <th>41</th>\n",
       "      <td>them</td>\n",
       "      <td>39321</td>\n",
       "    </tr>\n",
       "    <tr>\n",
       "      <th>42</th>\n",
       "      <td>man</td>\n",
       "      <td>39135</td>\n",
       "    </tr>\n",
       "    <tr>\n",
       "      <th>43</th>\n",
       "      <td>one</td>\n",
       "      <td>38040</td>\n",
       "    </tr>\n",
       "    <tr>\n",
       "      <th>44</th>\n",
       "      <td>their</td>\n",
       "      <td>37293</td>\n",
       "    </tr>\n",
       "    <tr>\n",
       "      <th>45</th>\n",
       "      <td>we</td>\n",
       "      <td>33704</td>\n",
       "    </tr>\n",
       "    <tr>\n",
       "      <th>46</th>\n",
       "      <td>go</td>\n",
       "      <td>32335</td>\n",
       "    </tr>\n",
       "    <tr>\n",
       "      <th>47</th>\n",
       "      <td>would</td>\n",
       "      <td>32098</td>\n",
       "    </tr>\n",
       "    <tr>\n",
       "      <th>48</th>\n",
       "      <td>no</td>\n",
       "      <td>31262</td>\n",
       "    </tr>\n",
       "    <tr>\n",
       "      <th>49</th>\n",
       "      <td>see</td>\n",
       "      <td>30728</td>\n",
       "    </tr>\n",
       "    <tr>\n",
       "      <th>50</th>\n",
       "      <td>make</td>\n",
       "      <td>29958</td>\n",
       "    </tr>\n",
       "  </tbody>\n",
       "</table>\n",
       "</div>"
      ],
      "text/plain": [
       "       Word  Frequency\n",
       "Rank                  \n",
       "1       the     648221\n",
       "2        be     427198\n",
       "3       and     394399\n",
       "4        of     378295\n",
       "5         a     337297\n",
       "6        to     314597\n",
       "7        in     192739\n",
       "8         I     188246\n",
       "9      have     186525\n",
       "10     that     161248\n",
       "11       it     113563\n",
       "12      not     109370\n",
       "13       he     108068\n",
       "14      his     103577\n",
       "15     with      97311\n",
       "16      you      96055\n",
       "17      for      85044\n",
       "18       my      67638\n",
       "19     this      66436\n",
       "20      her      66397\n",
       "21       at      60422\n",
       "22       on      59621\n",
       "23       do      59514\n",
       "24      him      58621\n",
       "25       by      58315\n",
       "26      say      57996\n",
       "27       me      57913\n",
       "28    which      57185\n",
       "29      all      54975\n",
       "30      but      54373\n",
       "31      The      51617\n",
       "32     much      49285\n",
       "33     they      48283\n",
       "34     from      47775\n",
       "35       or      44776\n",
       "36     will      43240\n",
       "37       so      41933\n",
       "38      can      41622\n",
       "39      she      41240\n",
       "40      And      40296\n",
       "41     them      39321\n",
       "42      man      39135\n",
       "43      one      38040\n",
       "44    their      37293\n",
       "45       we      33704\n",
       "46       go      32335\n",
       "47    would      32098\n",
       "48       no      31262\n",
       "49      see      30728\n",
       "50     make      29958"
      ]
     },
     "execution_count": 4,
     "metadata": {},
     "output_type": "execute_result"
    }
   ],
   "source": [
    "from collections import Counter\n",
    "from operator import itemgetter\n",
    "import re\n",
    "import pandas as pd\n",
    "frequency = Counter()\n",
    "for token in parsed_text:\n",
    "    lemma = token.lemma_\n",
    "    if re.match('[a-zA-Z]+$', lemma):\n",
    "        frequency[lemma] += 1\n",
    "#Construct the freqency table and sort by frequency\n",
    "sorted_lemma_count_pairs = sorted(frequency.items(),\n",
    "                                  reverse=True,\n",
    "                                  key=itemgetter(1))\n",
    "index = pd.Index(range(1,len(sorted_lemma_count_pairs)+1))\n",
    "freq = pd.DataFrame(sorted_lemma_count_pairs, index=index)\n",
    "freq.columns = ['Word', 'Frequency']\n",
    "freq.index.rename('Rank', inplace=True)\n",
    "#Print the top 50 most frequent words\n",
    "freq[0:50]"
   ]
  },
  {
   "cell_type": "markdown",
   "metadata": {},
   "source": [
    "(c) [10 pts] Visualize the frequency table by plotting a **raw scatter plot** (put frequency as the y-axis and rank as the x-axis), and a **log-log plot** (use logarithmic scales on both the x- and y- axes)."
   ]
  },
  {
   "cell_type": "code",
   "execution_count": 5,
   "metadata": {
    "scrolled": false
   },
   "outputs": [
    {
     "data": {
      "image/png": "[encoded data removed]",
      "text/plain": [
       "<matplotlib.figure.Figure at 0x10de29908>"
      ]
     },
     "metadata": {},
     "output_type": "display_data"
    }
   ],
   "source": [
    "import numpy as np\n",
    "%matplotlib inline\n",
    "import matplotlib.pyplot as plt\n",
    "plt.style.use('ggplot')\n",
    "# Raw scatter plot\n",
    "plt.figure(figsize=(20,10))\n",
    "plt.scatter(freq.index,freq['Frequency'], s =60)\n",
    "plt.show()"
   ]
  },
  {
   "cell_type": "code",
   "execution_count": 6,
   "metadata": {
    "scrolled": false
   },
   "outputs": [
    {
     "data": {
      "image/png": "[encoded data removed]",
      "text/plain": [
       "<matplotlib.figure.Figure at 0x10de27668>"
      ]
     },
     "metadata": {},
     "output_type": "display_data"
    }
   ],
   "source": [
    "# Log-log plot\n",
    "plt.figure(figsize=(20,10))\n",
    "plt.scatter(freq.index,freq['Frequency'], s =60)\n",
    "plt.yscale('log')\n",
    "plt.xscale('log')\n",
    "plt.show()"
   ]
  },
  {
   "cell_type": "markdown",
   "metadata": {},
   "source": [
    "(d) [15 pts] Explore the frequency table: Zipf's law states that term frequency is governed by a power low, i.e. the relationship between term frequency and rank can be approximated by $f(r) = cr^{-1}$, where $f(r)$ is the frequency of the term at rank $r$, $r$ is the rank of a term, and $c$ is a constant and is approximately 0.1*(corpus size) for English. \n",
    "\n",
    "Answer following questions:\n",
    "\n",
    "- What do you observe in the log-log plot above? Is this consist with the power law?"
   ]
  },
  {
   "cell_type": "markdown",
   "metadata": {},
   "source": [
    "Your text answer (for this question, your answer is *not* code): *** WRITE YOUR ANSWER HERE ***\n",
    "<br>The log-log plot transforms the Zipf's law into a linear form, which still satisfies the condition of power law. The original formula is turned into lnf(r) = -cln(r), which is similar to a linear representation."
   ]
  },
  {
   "cell_type": "markdown",
   "metadata": {},
   "source": [
    "- Think of the corpus as a (large) unigram bag of words. Following the analogy from lecture, imagine drawing a single word from this big bag (note that we are assuming that we've lemmatized the words and also filtered out non-alphanumeric words). What is the probability of drawing one of the 4 most frequent words? What is the probability of drawing one of the 50 most frequent words? Answer these two questions using code rather than just entering in the final answers as numbers."
   ]
  },
  {
   "cell_type": "code",
   "execution_count": 8,
   "metadata": {},
   "outputs": [
    {
     "name": "stdout",
     "output_type": "stream",
     "text": [
      "Probability of drawing one of the 4 most frequent words: \n",
      "0.15296\n",
      "Probability of drawing one of the 50 most frequent words: \n",
      "0.45647\n"
     ]
    }
   ],
   "source": [
    "print('Probability of drawing one of the 4 most frequent words: ')\n",
    "top4_prob = sum([count for token, count in sorted_lemma_count_pairs[0:4]])/sum([count for token, count in sorted_lemma_count_pairs])\n",
    "print(round(top4_prob,5))\n",
    "print('Probability of drawing one of the 50 most frequent words: ')\n",
    "top50_prob = sum([count for token, count in sorted_lemma_count_pairs[0:50]])/sum([count for token, count in sorted_lemma_count_pairs])\n",
    "print(round(top50_prob,5))"
   ]
  },
  {
   "cell_type": "markdown",
   "metadata": {},
   "source": [
    "- What proportion of the words occur only once? What proportion of the words occur fewer than 10 times?"
   ]
  },
  {
   "cell_type": "code",
   "execution_count": 10,
   "metadata": {
    "scrolled": true
   },
   "outputs": [
    {
     "name": "stdout",
     "output_type": "stream",
     "text": [
      "Occur only once: \n",
      "0.44966\n",
      "Occur fewer than 10 times: \n",
      "0.78527\n"
     ]
    }
   ],
   "source": [
    "print(\"Occur only once: \")\n",
    "count_only_once = 0\n",
    "for i in range(len(sorted_lemma_count_pairs)):\n",
    "    if sorted_lemma_count_pairs[i][1] == 1:\n",
    "        count_only_once += 1\n",
    "print(round(count_only_once/len(sorted_lemma_count_pairs),5))\n",
    "print(\"Occur fewer than 10 times: \")\n",
    "count_fewer_than_10 = 0\n",
    "for i in range(len(sorted_lemma_count_pairs)):\n",
    "    if sorted_lemma_count_pairs[i][1] < 10:\n",
    "        count_fewer_than_10 += 1\n",
    "print(round(count_fewer_than_10/len(sorted_lemma_count_pairs),5))"
   ]
  },
  {
   "cell_type": "markdown",
   "metadata": {},
   "source": [
    "### [Problem 2] Entity Recognition and Pointwise Mutual Information (PMI) [40 pts]\n",
    "By using the entity recognition system in `spaCy`, let's identify named entities from newspaper articles. You'll be using Reuters corpus which contains more than ten thousand newspaper articles. To run the code below, you need to download the Reuters dataset. To do so, in a terminal/command line (recall that you can open a terminal from Jupyter's webpage that shows all the files, which by default is http://localhost:8888/tree), start up Python and enter:\n",
    "\n",
    "`\n",
    "import nltk\n",
    "nltk.download('reuters')\n",
    "`\n",
    "\n",
    "Then proceed to the problem subparts below.\n",
    "\n",
    "Note that in this problem you will need named entity recognition but not grammatical parsing or the part-of-speech tagging. Hence, you will want to instantiate the nlp object by calling:\n",
    "\n",
    "`\n",
    "nlp = spacy.load('en', disable=['parser', 'tagger'])\n",
    "`\n"
   ]
  },
  {
   "cell_type": "markdown",
   "metadata": {},
   "source": [
    "(a) [12 pts] Draw a bar chart in which one of the axes shows entity labels and the other shows the frequency of the corresponding label. Use the variables `reuters_nlp` and `label_counter` provided in the code below."
   ]
  },
  {
   "cell_type": "code",
   "execution_count": 11,
   "metadata": {},
   "outputs": [
    {
     "name": "stdout",
     "output_type": "stream",
     "text": [
      "[nltk_data] Downloading package reuters to\n",
      "[nltk_data]     /Users/michellehsu/nltk_data...\n",
      "[nltk_data]   Package reuters is already up-to-date!\n"
     ]
    },
    {
     "data": {
      "text/plain": [
       "True"
      ]
     },
     "execution_count": 11,
     "metadata": {},
     "output_type": "execute_result"
    }
   ],
   "source": [
    "import nltk\n",
    "nltk.download('reuters')"
   ]
  },
  {
   "cell_type": "code",
   "execution_count": 12,
   "metadata": {
    "scrolled": false
   },
   "outputs": [
    {
     "data": {
      "image/png": "[encoded data removed]",
      "text/plain": [
       "<matplotlib.figure.Figure at 0x110fd5470>"
      ]
     },
     "metadata": {},
     "output_type": "display_data"
    }
   ],
   "source": [
    "import matplotlib.pyplot as plt\n",
    "from collections import Counter\n",
    "from nltk.corpus import reuters\n",
    "import re\n",
    "import spacy\n",
    "nlp = spacy.load('en', disable=['parser', 'tagger'])\n",
    "reuters_fileids = reuters.fileids()  # hint: when first debugging, consider looking at just the first few\n",
    "reuters_nlp = [nlp(re.sub('\\s+',' ', reuters.raw(i)).strip()) for i in reuters_fileids]\n",
    "label_counter = Counter()\n",
    "\n",
    "for i in [entity.label_ for i in range(len(reuters_nlp)) for entity in reuters_nlp[i].ents]:\n",
    "    label_counter[i] += 1\n",
    "plt.figure(figsize=(20,10))\n",
    "plt.bar(range(len(label_counter.keys())), label_counter.values(), align='center')\n",
    "plt.xticks(range(len(label_counter.keys())), label_counter.keys(), rotation=45)\n",
    "plt.xlabel('Entity label')\n",
    "plt.ylabel('Raw count')\n",
    "plt.show()"
   ]
  },
  {
   "cell_type": "markdown",
   "metadata": {},
   "source": [
    "(b) [12 pts] Now list the top 10 most frequently occured entities (entity text and the number of occurence) with labels `ORG` (organization) and `GPE` (countries, cities, states) respectively.\n",
    "\n",
    "Hint: Here, when counting the frequency, we need to count how many articles have an entity with the desired property. For every article, we add 1 if the article has the entity and 0 otherwise.  List filtering (as in HW0) will be helpful here.   "
   ]
  },
  {
   "cell_type": "code",
   "execution_count": 13,
   "metadata": {},
   "outputs": [
    {
     "name": "stdout",
     "output_type": "stream",
     "text": [
      "Avg : 583\n",
      "Reuters : 445\n",
      "the Securities and Exchange Commission : 244\n",
      "EC : 240\n",
      "USDA : 226\n",
      "NET : 203\n",
      "Treasury : 157\n",
      "FED : 141\n",
      "Congress : 138\n",
      "Fed : 135\n"
     ]
    }
   ],
   "source": [
    "# Top 10 most frequently occured entity with labels ORG\n",
    "org_counter = Counter()\n",
    "for i in range(len(reuters_nlp)):\n",
    "    org = []\n",
    "    for word in [entity.orth_ for entity in reuters_nlp[i].ents if ('ORG') in entity.label_]:\n",
    "        org.append(word)      \n",
    "    org_list = set(org)\n",
    "    for word in org_list:\n",
    "        org_counter[word] += 1\n",
    "sorted_org_count = sorted(org_counter.items(),\n",
    "                            reverse=True,\n",
    "                            key=itemgetter(1))\n",
    "for org, count in sorted_org_count[0:10]:\n",
    "    print(org, \":\", count)"
   ]
  },
  {
   "cell_type": "code",
   "execution_count": 14,
   "metadata": {},
   "outputs": [
    {
     "name": "stdout",
     "output_type": "stream",
     "text": [
      "U.S. : 1666\n",
      "Shr : 690\n",
      "Japan : 536\n",
      "the United States : 345\n",
      "U.K. : 309\n",
      "Canada : 243\n",
      "New York : 239\n",
      "West Germany : 232\n",
      "Washington : 230\n",
      "JAPAN : 221\n"
     ]
    }
   ],
   "source": [
    "# Top 10 most frequently occured entity with labels GPE\n",
    "gpe_counter = Counter()\n",
    "for i in range(len(reuters_nlp)):\n",
    "    gpe=[]\n",
    "    for word in [entity.orth_ for entity in reuters_nlp[i].ents if ('GPE') in entity.label_]:\n",
    "        gpe.append(word)      \n",
    "    gpe_list = set(gpe)\n",
    "    for word in gpe_list:\n",
    "        gpe_counter[word] += 1\n",
    "sorted_gpe_count = sorted(gpe_counter.items(),\n",
    "                            reverse=True,\n",
    "                            key=itemgetter(1))\n",
    "for gpe, count in sorted_gpe_count[0:10]:\n",
    "    print(gpe, \":\", count)"
   ]
  },
  {
   "cell_type": "markdown",
   "metadata": {},
   "source": [
    "(c) [16 pts] Give the top 50 `GPE` (countries, cities, states) entities that have the highest Pointwise Mutual Information (PMI) values with regard to the `ORG` (organization) entity **'opec'** (your list of this top 50 should be ranked in decreasing PMI value). Did you find any unexpected results? If so, why do you think it happened? If you found some of the results to be unsurprisingly, how come? \n",
    "\n",
    "Hint 1: As in lecture, when computing PMI, we will compute probabilities by counting the number of documents where entities occur or co-occur.  For example, $P('opec') = \\frac{number \\ \\ of \\ \\ documents \\ \\ containing \\ \\ 'opec'}{number \\ \\ of \\ \\ documents}$.  \n",
    "\n",
    "Hint 2: To compute this ranking, you do not have to compute the full PMI equation."
   ]
  },
  {
   "cell_type": "code",
   "execution_count": 15,
   "metadata": {
    "collapsed": true
   },
   "outputs": [],
   "source": [
    "c = 0\n",
    "for i in range(len(reuters_nlp)):\n",
    "    if ('OPEC') in [i.orth_ for i in list(reuters_nlp[i].ents)]:\n",
    "        c += 1\n",
    "#Calculate P('OPEC')\n",
    "opec_prob = c/len(reuters_nlp)"
   ]
  },
  {
   "cell_type": "code",
   "execution_count": 16,
   "metadata": {
    "collapsed": true
   },
   "outputs": [],
   "source": [
    "#Calculate P(gpe) for every GPE\n",
    "gpe_prob = []\n",
    "for i in range(len(sorted_gpe_count)):\n",
    "    gpe_prob.append((sorted_gpe_count[i][0], sorted_gpe_count[i][1]/len(reuters_nlp)))"
   ]
  },
  {
   "cell_type": "code",
   "execution_count": 17,
   "metadata": {
    "collapsed": true
   },
   "outputs": [],
   "source": [
    "#Calculate the joint probability of evrey GPE and 'OPEC'\n",
    "article_with_OPEC = []\n",
    "joint_prob = []\n",
    "joint_counter = Counter()\n",
    "for i in range(len(reuters_nlp)):\n",
    "    if ('OPEC') in [i.orth_ for i in list(reuters_nlp[i].ents)]:\n",
    "        article_with_OPEC.append(i)\n",
    "\n",
    "for i in article_with_OPEC:\n",
    "    temp = []\n",
    "    temp.extend(entity.orth_ for entity in reuters_nlp[i].ents if ('GPE') in entity.label_)\n",
    "    gpe_opec = set(temp)\n",
    "    for j in gpe_opec:\n",
    "        joint_counter[j] += 1 \n",
    "sorted_joint_count = sorted(joint_counter.items(),\n",
    "                            reverse=True,\n",
    "                            key=itemgetter(1))\n",
    "for joint, count in sorted_joint_count:\n",
    "    joint_prob.append((joint, count/len(reuters_nlp)))"
   ]
  },
  {
   "cell_type": "code",
   "execution_count": 18,
   "metadata": {},
   "outputs": [
    {
     "data": {
      "text/plain": [
       "[('Balao', 93.0),\n",
       " ('Emirates', 93.0),\n",
       " ('Yanbu', 93.0),\n",
       " ('Reventador', 93.0),\n",
       " ('Tripoli', 93.0),\n",
       " (\"The United States'\", 93.0),\n",
       " ('Lichtblau', 93.0),\n",
       " ('Duri', 93.0),\n",
       " ('Minas', 93.0),\n",
       " ('Sulphur', 93.0),\n",
       " ('I.E.', 93.0),\n",
       " ('L.F.', 93.0),\n",
       " ('the Lake Charles', 93.0),\n",
       " ('Bethesda', 93.0),\n",
       " ('Easter', 93.0),\n",
       " (\"Gabon on Africa's\", 93.0),\n",
       " ('PGRT', 93.0),\n",
       " ('CERA', 93.0),\n",
       " ('Neutral Zone', 93.0),\n",
       " ('Saudi Arabia 500,000', 93.0),\n",
       " ('Aguarico', 93.0),\n",
       " ('El Salado', 93.0),\n",
       " ('Ecaudor', 93.0),\n",
       " (\"Ju'aymah\", 93.0),\n",
       " ('Nazir', 93.0),\n",
       " (\"SAUDI ARABIA'S\", 93.0),\n",
       " ('BAHRAIN', 93.0),\n",
       " ('Doha', 93.0),\n",
       " ('DISCUSSION', 93.0),\n",
       " ('Visnews', 92.99999999999999),\n",
       " ('Vienna', 79.05),\n",
       " ('Riyadh', 74.39999999999999),\n",
       " ('QUOTA', 69.75),\n",
       " (\"Saudi Arabia's\", 63.93749999999999),\n",
       " ('Dubai', 61.999999999999986),\n",
       " ('Quito', 61.999999999999986),\n",
       " ('Brent', 61.999999999999986),\n",
       " ('Qatar', 53.653846153846146),\n",
       " ('Caracas', 51.66666666666666),\n",
       " ('Libya', 50.72727272727273),\n",
       " ('UAE', 49.599999999999994),\n",
       " ('ECUADOR', 47.99999999999999),\n",
       " ('Jamaica', 46.5),\n",
       " ('Petromin', 46.5),\n",
       " ('INA', 46.5),\n",
       " ('Statfjord', 46.5),\n",
       " ('Port Jerome', 46.5),\n",
       " ('Conable', 46.5),\n",
       " ('North Slope', 46.5),\n",
       " ('Saudi Arabia', 44.13559322033898)]"
      ]
     },
     "execution_count": 18,
     "metadata": {},
     "output_type": "execute_result"
    }
   ],
   "source": [
    "#Calculate PMI\n",
    "gpe_opec_prob = []\n",
    "gp = dict(gpe_prob)\n",
    "jp = dict(joint_prob)\n",
    "for i in jp.keys():\n",
    "    gpe_opec_prob.append((i, jp[i]/(gp[i]*opec_prob)))\n",
    "sorted_by_PMI = sorted(gpe_opec_prob, key=lambda tup: tup[1], reverse = True)\n",
    "sorted_by_PMI[0:50]"
   ]
  },
  {
   "cell_type": "markdown",
   "metadata": {},
   "source": [
    "Your text answer (for this question, your answer is *not* code): *** WRITE YOUR ANSWER HERE ***\n",
    "From the result above, we can see that most of the GPE is relevant to \"OPEC\". For example, one of the word that has the highest PMI is 'Balao', which is oil terminal on the Pacific coast. Since the relationship of 'Balao' and 'OPEC' is considered \"interesting\", the probability of their co-occurrence is higher than they were to occur independently. Besides, there are lots of words with the same PMI such as 'Balao', 'Emirates', 'Yanbu', etc. These words are also deemed as \"interesting\" relationship in articles. However, there are still some GPE such as 'I.E.' or 'L.F.', which should not be included but have high PMI. These unexpected results may due to stop words. We didn't exclude stop words before calculating PMI. Thus, some stop words were used to calculate the PMI."
   ]
  },
  {
   "cell_type": "markdown",
   "metadata": {},
   "source": [
    "### [Problem 4] Questionnaire [5 pts]\n",
    "Please provide feedback! To receive the 5 points, be sure to enter your Andrew ID correctly in this Google form:\n",
    "https://goo.gl/forms/Q0cz2NhZbuIuS8iR2"
   ]
  }
 ],
 "metadata": {
  "anaconda-cloud": {},
  "kernelspec": {
   "display_name": "Python 3",
   "language": "python",
   "name": "python3"
  },
  "language_info": {
   "codemirror_mode": {
    "name": "ipython",
    "version": 3
   },
   "file_extension": ".py",
   "mimetype": "text/x-python",
   "name": "python",
   "nbconvert_exporter": "python",
   "pygments_lexer": "ipython3",
   "version": "3.6.3"
  }
 },
 "nbformat": 4,
 "nbformat_minor": 2
}
