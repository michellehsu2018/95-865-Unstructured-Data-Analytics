{
 "cells": [
  {
   "cell_type": "code",
   "execution_count": 1,
   "metadata": {},
   "outputs": [
    {
     "name": "stderr",
     "output_type": "stream",
     "text": [
      "Using TensorFlow backend.\n"
     ]
    }
   ],
   "source": [
    "# This demo draws heavily from the handwritten digit example in\n",
    "# Chapter 2 of Francois Chollet's \"Deep Learning with Python\" book.\n",
    "# I've added a simpler single-layer example first before moving to\n",
    "# the 2-layer example. -George Chen (CMU Fall 2017)\n",
    "\n",
    "%matplotlib inline\n",
    "import matplotlib.pyplot as plt\n",
    "import numpy as np\n",
    "\n",
    "from keras.datasets import mnist\n",
    "from keras import models\n",
    "from keras import layers\n",
    "\n",
    "(train_images, train_labels), (test_images, test_labels) = mnist.load_data()"
   ]
  },
  {
   "cell_type": "code",
   "execution_count": 2,
   "metadata": {},
   "outputs": [
    {
     "name": "stdout",
     "output_type": "stream",
     "text": [
      "(60000, 28, 28)\n"
     ]
    }
   ],
   "source": [
    "print(train_images.shape)"
   ]
  },
  {
   "cell_type": "code",
   "execution_count": 3,
   "metadata": {},
   "outputs": [
    {
     "name": "stdout",
     "output_type": "stream",
     "text": [
      "(10000, 28, 28)\n"
     ]
    }
   ],
   "source": [
    "print(test_images.shape)"
   ]
  },
  {
   "cell_type": "code",
   "execution_count": 4,
   "metadata": {
    "collapsed": true
   },
   "outputs": [],
   "source": [
    "flattened_train_images = train_images.reshape(len(train_images), -1)  # flattens out each training image\n",
    "flattened_test_images = test_images.reshape(len(test_images), -1)  # flattens out each test image\n",
    "flattened_train_images = flattened_train_images.astype(np.float32) / 255  # rescale to be between 0 and 1\n",
    "flattened_test_images = flattened_test_images.astype(np.float32) / 255  # rescale to be between 0 and 1\n",
    "\n",
    "from keras.utils import to_categorical\n",
    "train_labels_categorical = to_categorical(train_labels)\n",
    "test_labels_categorical = to_categorical(test_labels)"
   ]
  },
  {
   "cell_type": "code",
   "execution_count": 5,
   "metadata": {},
   "outputs": [
    {
     "data": {
      "text/plain": [
       "5"
      ]
     },
     "execution_count": 5,
     "metadata": {},
     "output_type": "execute_result"
    }
   ],
   "source": [
    "train_labels[0]"
   ]
  },
  {
   "cell_type": "code",
   "execution_count": 6,
   "metadata": {},
   "outputs": [
    {
     "data": {
      "text/plain": [
       "array([ 0.,  0.,  0.,  0.,  0.,  1.,  0.,  0.,  0.,  0.], dtype=float32)"
      ]
     },
     "execution_count": 6,
     "metadata": {},
     "output_type": "execute_result"
    }
   ],
   "source": [
    "train_labels_categorical[0]"
   ]
  },
  {
   "cell_type": "code",
   "execution_count": 7,
   "metadata": {},
   "outputs": [
    {
     "name": "stdout",
     "output_type": "stream",
     "text": [
      "(60000, 784)\n"
     ]
    }
   ],
   "source": [
    "print(flattened_train_images.shape)"
   ]
  },
  {
   "cell_type": "code",
   "execution_count": 8,
   "metadata": {},
   "outputs": [
    {
     "data": {
      "text/plain": [
       "(-0.5, 27.5, 27.5, -0.5)"
      ]
     },
     "execution_count": 8,
     "metadata": {},
     "output_type": "execute_result"
    },
    {
     "data": {
      "image/png": "[encoded data removed]",
      "text/plain": [
       "<matplotlib.figure.Figure at 0x1821533400>"
      ]
     },
     "metadata": {},
     "output_type": "display_data"
    }
   ],
   "source": [
    "# this plots out one of the training images\n",
    "idx = np.random.randint(len(train_images))  # random training image index\n",
    "plt.imshow(train_images[idx], cmap='gray')\n",
    "plt.axis('off')"
   ]
  },
  {
   "cell_type": "code",
   "execution_count": 9,
   "metadata": {},
   "outputs": [
    {
     "data": {
      "text/plain": [
       "(-0.5, 9.5, 783.5, -0.5)"
      ]
     },
     "execution_count": 9,
     "metadata": {},
     "output_type": "execute_result"
    },
    {
     "data": {
      "image/png": "[encoded data removed]",
      "text/plain": [
       "<matplotlib.figure.Figure at 0x1821533048>"
      ]
     },
     "metadata": {},
     "output_type": "display_data"
    }
   ],
   "source": [
    "# this is just to visualize what the flattened version of the image above looks like;\n",
    "# after flattening the image I replicate it horizontally (by 10 pixels) just for\n",
    "# visualization purposes since otherwise the image is so thin (horizontally) that\n",
    "# it's not easy to see anything\n",
    "plt.imshow(np.hstack([train_images[idx].flatten().reshape((784,1))]*10), cmap='gray')\n",
    "plt.axis('off')"
   ]
  },
  {
   "cell_type": "code",
   "execution_count": 10,
   "metadata": {},
   "outputs": [
    {
     "name": "stdout",
     "output_type": "stream",
     "text": [
      "_________________________________________________________________\n",
      "Layer (type)                 Output Shape              Param #   \n",
      "=================================================================\n",
      "dense_1 (Dense)              (None, 10)                7850      \n",
      "=================================================================\n",
      "Total params: 7,850\n",
      "Trainable params: 7,850\n",
      "Non-trainable params: 0\n",
      "_________________________________________________________________\n"
     ]
    }
   ],
   "source": [
    "# extremely shallow single-layer model\n",
    "shallow_single_layer_model = models.Sequential()  # this is Keras's way of specifying a model that is a single sequence of layers\n",
    "shallow_single_layer_model.add(layers.Dense(10, activation='softmax', input_shape=(784,)))\n",
    "shallow_single_layer_model.summary()"
   ]
  },
  {
   "cell_type": "code",
   "execution_count": 11,
   "metadata": {
    "collapsed": true
   },
   "outputs": [],
   "source": [
    "shallow_single_layer_model.compile(optimizer='rmsprop',\n",
    "                                   loss='categorical_crossentropy',\n",
    "                                   metrics=['accuracy'])"
   ]
  },
  {
   "cell_type": "code",
   "execution_count": 12,
   "metadata": {},
   "outputs": [
    {
     "name": "stdout",
     "output_type": "stream",
     "text": [
      "Train on 48000 samples, validate on 12000 samples\n",
      "Epoch 1/5\n",
      "48000/48000 [==============================] - 1s 21us/step - loss: 0.6571 - acc: 0.8392 - val_loss: 0.3586 - val_acc: 0.9019\n",
      "Epoch 2/5\n",
      "48000/48000 [==============================] - 1s 19us/step - loss: 0.3504 - acc: 0.9038 - val_loss: 0.3079 - val_acc: 0.9139\n",
      "Epoch 3/5\n",
      "48000/48000 [==============================] - 1s 19us/step - loss: 0.3152 - acc: 0.9129 - val_loss: 0.2920 - val_acc: 0.9171\n",
      "Epoch 4/5\n",
      "48000/48000 [==============================] - 1s 19us/step - loss: 0.2994 - acc: 0.9163 - val_loss: 0.2815 - val_acc: 0.9214\n",
      "Epoch 5/5\n",
      "48000/48000 [==============================] - 1s 19us/step - loss: 0.2893 - acc: 0.9192 - val_loss: 0.2761 - val_acc: 0.9235\n"
     ]
    },
    {
     "data": {
      "text/plain": [
       "<keras.callbacks.History at 0x1836d8b748>"
      ]
     },
     "execution_count": 12,
     "metadata": {},
     "output_type": "execute_result"
    }
   ],
   "source": [
    "shallow_single_layer_model.fit(flattened_train_images,\n",
    "                               train_labels_categorical,\n",
    "                               validation_split=0.2,\n",
    "                               epochs=5,\n",
    "                               batch_size=128)"
   ]
  },
  {
   "cell_type": "code",
   "execution_count": 13,
   "metadata": {},
   "outputs": [
    {
     "name": "stdout",
     "output_type": "stream",
     "text": [
      "10000/10000 [==============================] - 0s 24us/step\n",
      "Test accuracy: 0.9216\n"
     ]
    }
   ],
   "source": [
    "test_loss, test_acc = shallow_single_layer_model.evaluate(flattened_test_images, test_labels_categorical)\n",
    "print('Test accuracy:', test_acc)"
   ]
  },
  {
   "cell_type": "code",
   "execution_count": 14,
   "metadata": {},
   "outputs": [
    {
     "name": "stdout",
     "output_type": "stream",
     "text": [
      "_________________________________________________________________\n",
      "Layer (type)                 Output Shape              Param #   \n",
      "=================================================================\n",
      "dense_2 (Dense)              (None, 512)               401920    \n",
      "_________________________________________________________________\n",
      "dense_3 (Dense)              (None, 10)                5130      \n",
      "=================================================================\n",
      "Total params: 407,050\n",
      "Trainable params: 407,050\n",
      "Non-trainable params: 0\n",
      "_________________________________________________________________\n"
     ]
    }
   ],
   "source": [
    "# two-layer model\n",
    "two_layer_model = models.Sequential()  # this is Keras's way of specifying a model that is a single sequence of layers\n",
    "two_layer_model.add(layers.Dense(512, activation='relu', input_shape=(784,)))\n",
    "two_layer_model.add(layers.Dense(10, activation='softmax'))\n",
    "two_layer_model.compile(optimizer='rmsprop',\n",
    "                        loss='categorical_crossentropy',\n",
    "                        metrics=['accuracy'])\n",
    "two_layer_model.summary()"
   ]
  },
  {
   "cell_type": "code",
   "execution_count": 15,
   "metadata": {},
   "outputs": [
    {
     "name": "stdout",
     "output_type": "stream",
     "text": [
      "Train on 48000 samples, validate on 12000 samples\n",
      "Epoch 1/5\n",
      "48000/48000 [==============================] - 5s 111us/step - loss: 0.2906 - acc: 0.9162 - val_loss: 0.1453 - val_acc: 0.9576\n",
      "Epoch 2/5\n",
      "48000/48000 [==============================] - 5s 111us/step - loss: 0.1182 - acc: 0.9643 - val_loss: 0.1243 - val_acc: 0.9620\n",
      "Epoch 3/5\n",
      "48000/48000 [==============================] - 5s 97us/step - loss: 0.0769 - acc: 0.9771 - val_loss: 0.0886 - val_acc: 0.9733\n",
      "Epoch 4/5\n",
      "48000/48000 [==============================] - 5s 97us/step - loss: 0.0554 - acc: 0.9840 - val_loss: 0.0830 - val_acc: 0.9765\n",
      "Epoch 5/5\n",
      "48000/48000 [==============================] - 5s 97us/step - loss: 0.0407 - acc: 0.9879 - val_loss: 0.0877 - val_acc: 0.9758\n"
     ]
    },
    {
     "data": {
      "text/plain": [
       "<keras.callbacks.History at 0x1821545668>"
      ]
     },
     "execution_count": 15,
     "metadata": {},
     "output_type": "execute_result"
    }
   ],
   "source": [
    "two_layer_model.fit(flattened_train_images,\n",
    "                    train_labels_categorical,\n",
    "                    validation_split=0.2,\n",
    "                    epochs=5,\n",
    "                    batch_size=128)"
   ]
  },
  {
   "cell_type": "code",
   "execution_count": 16,
   "metadata": {},
   "outputs": [
    {
     "name": "stdout",
     "output_type": "stream",
     "text": [
      "10000/10000 [==============================] - 1s 61us/step\n",
      "Test accuracy: 0.9772\n"
     ]
    }
   ],
   "source": [
    "test_loss, test_acc = two_layer_model.evaluate(flattened_test_images, test_labels_categorical)\n",
    "print('Test accuracy:', test_acc)"
   ]
  },
  {
   "cell_type": "code",
   "execution_count": 19,
   "metadata": {
    "collapsed": true
   },
   "outputs": [],
   "source": [
    "#CNN: learn the input as 2D image. Do not flatten.\n",
    "#reshape is to add a new dimension(in this case, color) into the original dimension\n",
    "scaled_train_images = train_images.reshape(len(train_images), train_images.shape[1], train_images.shape[2], -1)  \n",
    "scaled_test_images = test_images.reshape(len(test_images), test_images.shape[1], test_images.shape[2], -1) \n",
    "scaled_train_images = scaled_train_images.astype(np.float32) / 255  # rescale to be between 0 and 1\n",
    "scaled_test_images = scaled_test_images.astype(np.float32) / 255  # rescale to be between 0 and 1"
   ]
  },
  {
   "cell_type": "code",
   "execution_count": 20,
   "metadata": {},
   "outputs": [
    {
     "name": "stdout",
     "output_type": "stream",
     "text": [
      "(60000, 28, 28, 1)\n"
     ]
    }
   ],
   "source": [
    "print(scaled_train_images.shape)"
   ]
  },
  {
   "cell_type": "code",
   "execution_count": 21,
   "metadata": {
    "scrolled": true
   },
   "outputs": [
    {
     "name": "stdout",
     "output_type": "stream",
     "text": [
      "_________________________________________________________________\n",
      "Layer (type)                 Output Shape              Param #   \n",
      "=================================================================\n",
      "conv2d_1 (Conv2D)            (None, 26, 26, 32)        320       \n",
      "_________________________________________________________________\n",
      "max_pooling2d_1 (MaxPooling2 (None, 13, 13, 32)        0         \n",
      "_________________________________________________________________\n",
      "flatten_1 (Flatten)          (None, 5408)              0         \n",
      "_________________________________________________________________\n",
      "dense_4 (Dense)              (None, 512)               2769408   \n",
      "_________________________________________________________________\n",
      "dense_5 (Dense)              (None, 10)                5130      \n",
      "=================================================================\n",
      "Total params: 2,774,858\n",
      "Trainable params: 2,774,858\n",
      "Non-trainable params: 0\n",
      "_________________________________________________________________\n"
     ]
    }
   ],
   "source": [
    "#32:number of filters; (3,3):filter size, do not need to mention the depth(color) dimension; (28,28,1):1 means no color\n",
    "simple_convnet_model = models.Sequential()\n",
    "simple_convnet_model.add(layers.Conv2D(32, (3, 3), activation='relu', input_shape=(28, 28, 1)))\n",
    "simple_convnet_model.add(layers.MaxPooling2D((2, 2)))\n",
    "simple_convnet_model.add(layers.Flatten())#Flatten the stacked images into a big dense matrix \n",
    "simple_convnet_model.add(layers.Dense(512, activation='relu'))\n",
    "simple_convnet_model.add(layers.Dense(10, activation='softmax'))\n",
    "simple_convnet_model.summary()\n",
    "\n",
    "simple_convnet_model.compile(optimizer='rmsprop',\n",
    "                             loss='categorical_crossentropy',\n",
    "                             metrics=['accuracy'])\n",
    "#Convolution output shape:(None, 26, 26, 32) \n",
    "#(26, 26): convolve will shrink the size of the input shape\n",
    "#32: numbers of kernels"
   ]
  },
  {
   "cell_type": "code",
   "execution_count": 30,
   "metadata": {},
   "outputs": [
    {
     "data": {
      "text/plain": [
       "676"
      ]
     },
     "execution_count": 30,
     "metadata": {},
     "output_type": "execute_result"
    }
   ],
   "source": []
  },
  {
   "cell_type": "code",
   "execution_count": 22,
   "metadata": {},
   "outputs": [
    {
     "name": "stdout",
     "output_type": "stream",
     "text": [
      "Train on 48000 samples, validate on 12000 samples\n",
      "Epoch 1/5\n",
      "48000/48000 [==============================] - 51s 1ms/step - loss: 0.1879 - acc: 0.9428 - val_loss: 0.0712 - val_acc: 0.9811\n",
      "Epoch 2/5\n",
      "48000/48000 [==============================] - 49s 1ms/step - loss: 0.0546 - acc: 0.9838 - val_loss: 0.0556 - val_acc: 0.9843\n",
      "Epoch 3/5\n",
      "48000/48000 [==============================] - 49s 1ms/step - loss: 0.0331 - acc: 0.9897 - val_loss: 0.0559 - val_acc: 0.9829\n",
      "Epoch 4/5\n",
      "48000/48000 [==============================] - 52s 1ms/step - loss: 0.0212 - acc: 0.9931 - val_loss: 0.0490 - val_acc: 0.9865\n",
      "Epoch 5/5\n",
      "48000/48000 [==============================] - 51s 1ms/step - loss: 0.0138 - acc: 0.9956 - val_loss: 0.0472 - val_acc: 0.9871\n"
     ]
    },
    {
     "data": {
      "text/plain": [
       "<keras.callbacks.History at 0x183738b710>"
      ]
     },
     "execution_count": 22,
     "metadata": {},
     "output_type": "execute_result"
    }
   ],
   "source": [
    "simple_convnet_model.fit(scaled_train_images,\n",
    "                         train_labels_categorical,\n",
    "                         validation_split=0.2,\n",
    "                         epochs=5,\n",
    "                         batch_size=128)"
   ]
  },
  {
   "cell_type": "code",
   "execution_count": 23,
   "metadata": {
    "scrolled": true
   },
   "outputs": [
    {
     "name": "stdout",
     "output_type": "stream",
     "text": [
      "10000/10000 [==============================] - 4s 365us/step\n",
      "Test accuracy: 0.9871\n"
     ]
    }
   ],
   "source": [
    "test_loss, test_acc = simple_convnet_model.evaluate(scaled_test_images, test_labels_categorical)\n",
    "print('Test accuracy:', test_acc)"
   ]
  },
  {
   "cell_type": "code",
   "execution_count": 24,
   "metadata": {},
   "outputs": [
    {
     "name": "stdout",
     "output_type": "stream",
     "text": [
      "_________________________________________________________________\n",
      "Layer (type)                 Output Shape              Param #   \n",
      "=================================================================\n",
      "conv2d_2 (Conv2D)            (None, 26, 26, 32)        320       \n",
      "_________________________________________________________________\n",
      "max_pooling2d_2 (MaxPooling2 (None, 13, 13, 32)        0         \n",
      "_________________________________________________________________\n",
      "flatten_2 (Flatten)          (None, 5408)              0         \n",
      "_________________________________________________________________\n",
      "dense_6 (Dense)              (None, 64)                346176    \n",
      "_________________________________________________________________\n",
      "dense_7 (Dense)              (None, 10)                650       \n",
      "=================================================================\n",
      "Total params: 347,146\n",
      "Trainable params: 347,146\n",
      "Non-trainable params: 0\n",
      "_________________________________________________________________\n"
     ]
    }
   ],
   "source": [
    "simple_convnet_model_avoid_overfitting = models.Sequential()\n",
    "simple_convnet_model_avoid_overfitting.add(layers.Conv2D(32, (3, 3), activation='relu', input_shape=(28, 28, 1)))\n",
    "simple_convnet_model_avoid_overfitting.add(layers.MaxPooling2D((2, 2)))\n",
    "simple_convnet_model_avoid_overfitting.add(layers.Flatten())\n",
    "simple_convnet_model_avoid_overfitting.add(layers.Dense(64, activation='relu'))\n",
    "simple_convnet_model_avoid_overfitting.add(layers.Dense(10, activation='softmax'))\n",
    "simple_convnet_model_avoid_overfitting.summary()\n",
    "\n",
    "simple_convnet_model_avoid_overfitting.compile(optimizer='rmsprop',\n",
    "                                               loss='categorical_crossentropy',\n",
    "                                               metrics=['accuracy'])"
   ]
  },
  {
   "cell_type": "code",
   "execution_count": 25,
   "metadata": {},
   "outputs": [
    {
     "name": "stdout",
     "output_type": "stream",
     "text": [
      "Train on 48000 samples, validate on 12000 samples\n",
      "Epoch 1/5\n",
      "48000/48000 [==============================] - 28s 580us/step - loss: 0.2903 - acc: 0.9155 - val_loss: 0.1231 - val_acc: 0.9663\n",
      "Epoch 2/5\n",
      "48000/48000 [==============================] - 29s 610us/step - loss: 0.0910 - acc: 0.9727 - val_loss: 0.0779 - val_acc: 0.9770\n",
      "Epoch 3/5\n",
      "48000/48000 [==============================] - 27s 568us/step - loss: 0.0593 - acc: 0.9820 - val_loss: 0.0648 - val_acc: 0.9814\n",
      "Epoch 4/5\n",
      "48000/48000 [==============================] - 25s 512us/step - loss: 0.0435 - acc: 0.9871 - val_loss: 0.0598 - val_acc: 0.9838\n",
      "Epoch 5/5\n",
      "48000/48000 [==============================] - 25s 511us/step - loss: 0.0344 - acc: 0.9896 - val_loss: 0.0571 - val_acc: 0.9846\n"
     ]
    },
    {
     "data": {
      "text/plain": [
       "<keras.callbacks.History at 0x184545ba58>"
      ]
     },
     "execution_count": 25,
     "metadata": {},
     "output_type": "execute_result"
    }
   ],
   "source": [
    "simple_convnet_model_avoid_overfitting.fit(scaled_train_images,\n",
    "                                           train_labels_categorical,\n",
    "                                           validation_split=0.2,\n",
    "                                           epochs=5,\n",
    "                                           batch_size=128)"
   ]
  },
  {
   "cell_type": "code",
   "execution_count": 26,
   "metadata": {},
   "outputs": [
    {
     "name": "stdout",
     "output_type": "stream",
     "text": [
      "10000/10000 [==============================] - 2s 207us/step\n",
      "Test accuracy: 0.983\n"
     ]
    }
   ],
   "source": [
    "test_loss, test_acc = simple_convnet_model_avoid_overfitting.evaluate(scaled_test_images, test_labels_categorical)\n",
    "print('Test accuracy:', test_acc)"
   ]
  },
  {
   "cell_type": "code",
   "execution_count": 27,
   "metadata": {},
   "outputs": [
    {
     "name": "stdout",
     "output_type": "stream",
     "text": [
      "_________________________________________________________________\n",
      "Layer (type)                 Output Shape              Param #   \n",
      "=================================================================\n",
      "conv2d_3 (Conv2D)            (None, 26, 26, 32)        320       \n",
      "_________________________________________________________________\n",
      "max_pooling2d_3 (MaxPooling2 (None, 13, 13, 32)        0         \n",
      "_________________________________________________________________\n",
      "conv2d_4 (Conv2D)            (None, 11, 11, 32)        9248      \n",
      "_________________________________________________________________\n",
      "max_pooling2d_4 (MaxPooling2 (None, 5, 5, 32)          0         \n",
      "_________________________________________________________________\n",
      "flatten_3 (Flatten)          (None, 800)               0         \n",
      "_________________________________________________________________\n",
      "dense_8 (Dense)              (None, 64)                51264     \n",
      "_________________________________________________________________\n",
      "dense_9 (Dense)              (None, 10)                650       \n",
      "=================================================================\n",
      "Total params: 61,482\n",
      "Trainable params: 61,482\n",
      "Non-trainable params: 0\n",
      "_________________________________________________________________\n"
     ]
    }
   ],
   "source": [
    "deeper_convnet_model_avoid_overfitting = models.Sequential()\n",
    "deeper_convnet_model_avoid_overfitting.add(layers.Conv2D(32, (3, 3), activation='relu', input_shape=(28, 28, 1)))\n",
    "deeper_convnet_model_avoid_overfitting.add(layers.MaxPooling2D((2, 2)))\n",
    "deeper_convnet_model_avoid_overfitting.add(layers.Conv2D(32, (3, 3), activation='relu'))\n",
    "deeper_convnet_model_avoid_overfitting.add(layers.MaxPooling2D((2, 2)))\n",
    "deeper_convnet_model_avoid_overfitting.add(layers.Flatten())\n",
    "deeper_convnet_model_avoid_overfitting.add(layers.Dense(64, activation='relu'))\n",
    "deeper_convnet_model_avoid_overfitting.add(layers.Dense(10, activation='softmax'))\n",
    "deeper_convnet_model_avoid_overfitting.summary()\n",
    "\n",
    "deeper_convnet_model_avoid_overfitting.compile(optimizer='rmsprop',\n",
    "                                               loss='categorical_crossentropy',\n",
    "                                               metrics=['accuracy'])"
   ]
  },
  {
   "cell_type": "code",
   "execution_count": 28,
   "metadata": {},
   "outputs": [
    {
     "name": "stdout",
     "output_type": "stream",
     "text": [
      "Train on 48000 samples, validate on 12000 samples\n",
      "Epoch 1/5\n",
      "48000/48000 [==============================] - 38s 784us/step - loss: 0.2788 - acc: 0.9158 - val_loss: 0.0933 - val_acc: 0.9717\n",
      "Epoch 2/5\n",
      "48000/48000 [==============================] - 34s 719us/step - loss: 0.0793 - acc: 0.9748 - val_loss: 0.0621 - val_acc: 0.9814\n",
      "Epoch 3/5\n",
      "48000/48000 [==============================] - 36s 740us/step - loss: 0.0541 - acc: 0.9828 - val_loss: 0.0601 - val_acc: 0.9827\n",
      "Epoch 4/5\n",
      "48000/48000 [==============================] - 35s 739us/step - loss: 0.0421 - acc: 0.9867 - val_loss: 0.0446 - val_acc: 0.9873\n",
      "Epoch 5/5\n",
      "48000/48000 [==============================] - 36s 746us/step - loss: 0.0339 - acc: 0.9895 - val_loss: 0.0458 - val_acc: 0.9869\n"
     ]
    },
    {
     "data": {
      "text/plain": [
       "<keras.callbacks.History at 0x1837012438>"
      ]
     },
     "execution_count": 28,
     "metadata": {},
     "output_type": "execute_result"
    }
   ],
   "source": [
    "deeper_convnet_model_avoid_overfitting.fit(scaled_train_images,\n",
    "                                           train_labels_categorical,\n",
    "                                           validation_split=0.2,\n",
    "                                           epochs=5,\n",
    "                                           batch_size=128)"
   ]
  },
  {
   "cell_type": "code",
   "execution_count": 29,
   "metadata": {},
   "outputs": [
    {
     "name": "stdout",
     "output_type": "stream",
     "text": [
      "10000/10000 [==============================] - 3s 256us/step\n",
      "Test accuracy: 0.9889\n"
     ]
    }
   ],
   "source": [
    "test_loss, test_acc = deeper_convnet_model_avoid_overfitting.evaluate(scaled_test_images, test_labels_categorical)\n",
    "print('Test accuracy:', test_acc)"
   ]
  },
  {
   "cell_type": "markdown",
   "metadata": {},
   "source": [
    "Think!<br>\n",
    "If we use (26,26,32) dense layer to learn the neural net, how many parameters we need to learn? <br>\n",
    "==>The number of parameters we need to learn will be very large compared to convolution, since convolve will reduce the number of parameters.<br>\n",
    "Always favor the simpler model, provided the same performance."
   ]
  },
  {
   "cell_type": "code",
   "execution_count": null,
   "metadata": {
    "collapsed": true
   },
   "outputs": [],
   "source": []
  }
 ],
 "metadata": {
  "kernelspec": {
   "display_name": "Python 3",
   "language": "python",
   "name": "python3"
  },
  "language_info": {
   "codemirror_mode": {
    "name": "ipython",
    "version": 3
   },
   "file_extension": ".py",
   "mimetype": "text/x-python",
   "name": "python",
   "nbconvert_exporter": "python",
   "pygments_lexer": "ipython3",
   "version": "3.6.3"
  }
 },
 "nbformat": 4,
 "nbformat_minor": 2
}
