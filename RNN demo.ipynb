{
 "cells": [
  {
   "cell_type": "markdown",
   "metadata": {},
   "source": [
    "# Recurrent Neural Networks Demo\n",
    "This is a truncated and slightly modified version of an RNN demo by 95-865 Fall 2017 TA Runshan Fu"
   ]
  },
  {
   "cell_type": "markdown",
   "metadata": {},
   "source": [
    "### Sentiment Analysis with the IMDb Dataset\n",
    "In this demo, we will implement RNN models for sentiment analysis on IMDB reviews. We will start from the original review texts and predict sentiments (positive or negative) for each review. The example is borrowed from the book *Deep Learning with Python* by Francois Chollet.\n",
    "\n",
    "#### Load the dataset\n",
    "We directly load the data as lists of intergers from keras. We restrict the movie reviews to the top 10,000 most common words, and cut the reviews after 100 words."
   ]
  },
  {
   "cell_type": "code",
   "execution_count": 1,
   "metadata": {},
   "outputs": [
    {
     "name": "stderr",
     "output_type": "stream",
     "text": [
      "Using TensorFlow backend.\n"
     ]
    }
   ],
   "source": [
    "from keras.datasets import imdb\n",
    "from keras.preprocessing import sequence\n",
    "\n",
    "# load the dataset and only keep the top words (most frequently occurring)\n",
    "max_words = 10000\n",
    "(x_train, y_train), (x_test, y_test) = imdb.load_data(num_words=max_words)\n",
    "\n",
    "# turn the lists of integers into a 2D integer tensor of shape `(samples, maxlen)`\n",
    "x_train = sequence.pad_sequences(x_train, maxlen=100)\n",
    "x_test = sequence.pad_sequences(x_test, maxlen=100)"
   ]
  },
  {
   "cell_type": "code",
   "execution_count": 3,
   "metadata": {},
   "outputs": [
    {
     "data": {
      "text/plain": [
       "(25000, 100)"
      ]
     },
     "execution_count": 3,
     "metadata": {},
     "output_type": "execute_result"
    }
   ],
   "source": [
    "x_train.shape"
   ]
  },
  {
   "cell_type": "markdown",
   "metadata": {},
   "source": [
    "#### Use pre-trained word embeddings\n",
    "We use GloVe embeddings instead of learning our own task-specific word embedding. First download the pre-computed embeddings from 2014 English Wikipedia on https://nlp.stanford.edu/projects/glove/ (specifically the one with 6 billion tokens, `globe.6B.zip`). Unzip it (so that `glove.6B.100d.txt` is located in the directory `./glove/`)."
   ]
  },
  {
   "cell_type": "code",
   "execution_count": 4,
   "metadata": {},
   "outputs": [
    {
     "name": "stdout",
     "output_type": "stream",
     "text": [
      "Found 400000 word vectors.\n"
     ]
    }
   ],
   "source": [
    "import numpy as np\n",
    "# pre-process the embeddings\n",
    "embeddings_index = {}\n",
    "\n",
    "# we will use the 100-dimensional embedding vectors\n",
    "with open(\"./glove/glove.6B.100d.txt\") as f:\n",
    "    # each row represents a word vector\n",
    "    for line in f:\n",
    "        values = line.split()\n",
    "        # the first part is word\n",
    "        word = values[0]\n",
    "        # the rest of the values form the embedding vector\n",
    "        coefs = np.asarray(values[1:], dtype='float32')\n",
    "        embeddings_index[word] = coefs\n",
    "\n",
    "print('Found %s word vectors.' % len(embeddings_index))"
   ]
  },
  {
   "cell_type": "code",
   "execution_count": 6,
   "metadata": {},
   "outputs": [],
   "source": [
    "# prepare the GloVe word embeddings matrix\n",
    "embedding_dim = 100\n",
    "\n",
    "# word index is a dictinary that maps each word to its index\n",
    "word_index = imdb.get_word_index()\n",
    "# we first initialize the embedding matrix with zeros\n",
    "embedding_matrix = np.zeros((max_words, embedding_dim))\n",
    "for word, i in word_index.items():\n",
    "    # we get the word embeddings for each word from GloVe\n",
    "    embedding_vector = embeddings_index.get(word)\n",
    "    # we only look at top 10000 words\n",
    "    if i < max_words:\n",
    "        # if the embedding vector for the word exists in GloVe, we use it as the corresponding row in the \n",
    "        # embedding matrix; otherwise we leave the row as all zeros\n",
    "        if embedding_vector is not None:\n",
    "            embedding_matrix[i] = embedding_vector"
   ]
  },
  {
   "cell_type": "markdown",
   "metadata": {},
   "source": [
    "#### Forward Network with Embeddings"
   ]
  },
  {
   "cell_type": "code",
   "execution_count": 7,
   "metadata": {},
   "outputs": [
    {
     "name": "stdout",
     "output_type": "stream",
     "text": [
      "_________________________________________________________________\n",
      "Layer (type)                 Output Shape              Param #   \n",
      "=================================================================\n",
      "embedding_1 (Embedding)      (None, 100, 100)          1000000   \n",
      "_________________________________________________________________\n",
      "flatten_1 (Flatten)          (None, 10000)             0         \n",
      "_________________________________________________________________\n",
      "dense_1 (Dense)              (None, 32)                320032    \n",
      "_________________________________________________________________\n",
      "dense_2 (Dense)              (None, 1)                 33        \n",
      "=================================================================\n",
      "Total params: 1,320,065\n",
      "Trainable params: 1,320,065\n",
      "Non-trainable params: 0\n",
      "_________________________________________________________________\n"
     ]
    }
   ],
   "source": [
    "from keras.models import Sequential\n",
    "from keras.layers import Embedding, Flatten, Dense\n",
    "# initialize the model\n",
    "model = Sequential()\n",
    "# add the embedding layer; it takes 3 arguments: the total number of words (10000), \n",
    "# embedding dimension(100), and the input length (100)--the last argument is required \n",
    "# as we are going to connect Flatten then Dense layers (without it, the shape of\n",
    "# the dense outputs cannot be computed).\n",
    "model.add(Embedding(max_words, embedding_dim, input_length=100))\n",
    "# then flatten the 3D tensor into a 2D matrix as the input for the subsequent layer\n",
    "model.add(Flatten())\n",
    "# add a dense layer with 32 nodes\n",
    "model.add(Dense(32, activation='relu'))\n",
    "# add a logistic regression binary classifier\n",
    "model.add(Dense(1, activation='sigmoid'))\n",
    "model.summary()"
   ]
  },
  {
   "cell_type": "code",
   "execution_count": 8,
   "metadata": {
    "collapsed": true
   },
   "outputs": [],
   "source": [
    "# load the GloVe embeddings in the model\n",
    "model.layers[0].set_weights([embedding_matrix]) #force the weights to come from the embedding layer from Glove\n",
    "# set the embedding layer to be not trainable, so the weights do not change during the training\n",
    "model.layers[0].trainable = False"
   ]
  },
  {
   "cell_type": "code",
   "execution_count": 9,
   "metadata": {},
   "outputs": [
    {
     "name": "stdout",
     "output_type": "stream",
     "text": [
      "Train on 20000 samples, validate on 5000 samples\n",
      "Epoch 1/10\n",
      "20000/20000 [==============================] - 6s 280us/step - loss: 0.7056 - acc: 0.4946 - val_loss: 0.6932 - val_acc: 0.4938\n",
      "Epoch 2/10\n",
      "20000/20000 [==============================] - 5s 234us/step - loss: 0.6937 - acc: 0.5069 - val_loss: 0.6898 - val_acc: 0.5378\n",
      "Epoch 3/10\n",
      "20000/20000 [==============================] - 5s 235us/step - loss: 0.6768 - acc: 0.5718 - val_loss: 0.6792 - val_acc: 0.5612\n",
      "Epoch 4/10\n",
      "20000/20000 [==============================] - 5s 233us/step - loss: 0.6286 - acc: 0.6475 - val_loss: 0.6926 - val_acc: 0.5744\n",
      "Epoch 5/10\n",
      "20000/20000 [==============================] - 5s 233us/step - loss: 0.5848 - acc: 0.6925 - val_loss: 0.7080 - val_acc: 0.5820\n",
      "Epoch 6/10\n",
      "20000/20000 [==============================] - 5s 233us/step - loss: 0.5413 - acc: 0.7231 - val_loss: 0.7859 - val_acc: 0.5706\n",
      "Epoch 7/10\n",
      "20000/20000 [==============================] - 5s 235us/step - loss: 0.4992 - acc: 0.7516 - val_loss: 0.9772 - val_acc: 0.5530\n",
      "Epoch 8/10\n",
      "20000/20000 [==============================] - 7s 333us/step - loss: 0.4638 - acc: 0.7742 - val_loss: 0.8083 - val_acc: 0.5688\n",
      "Epoch 9/10\n",
      "20000/20000 [==============================] - 5s 267us/step - loss: 0.4230 - acc: 0.8023 - val_loss: 0.8947 - val_acc: 0.5750\n",
      "Epoch 10/10\n",
      "20000/20000 [==============================] - 6s 295us/step - loss: 0.3852 - acc: 0.8207 - val_loss: 0.9405 - val_acc: 0.5764\n"
     ]
    }
   ],
   "source": [
    "# compile and train the model\n",
    "model.compile(optimizer='rmsprop',\n",
    "              loss='binary_crossentropy', # suitable for just 1 neuron as output\n",
    "              metrics=['acc'])\n",
    "\n",
    "history = model.fit(x_train, y_train,\n",
    "                    epochs=10,\n",
    "                    batch_size=32,\n",
    "                    validation_split=0.2)"
   ]
  },
  {
   "cell_type": "code",
   "execution_count": 10,
   "metadata": {},
   "outputs": [
    {
     "data": {
      "image/png": "[encoded data removed]",
      "text/plain": [
       "<matplotlib.figure.Figure at 0x181b93aeb8>"
      ]
     },
     "metadata": {},
     "output_type": "display_data"
    }
   ],
   "source": [
    "# plot the accuracy rates for each epoch on training and validation data\n",
    "import matplotlib.pyplot as plt\n",
    "acc = history.history['acc']\n",
    "val_acc = history.history['val_acc']\n",
    "epochs = range(1, len(acc) + 1)\n",
    "plt.plot(epochs, acc, 'bo', label='Training acc')\n",
    "plt.plot(epochs, val_acc, 'b', label='Validation acc')\n",
    "plt.title('Training and validation accuracy')\n",
    "plt.legend()\n",
    "plt.show()"
   ]
  },
  {
   "cell_type": "code",
   "execution_count": 11,
   "metadata": {},
   "outputs": [
    {
     "name": "stdout",
     "output_type": "stream",
     "text": [
      "25000/25000 [==============================] - 2s 93us/step\n",
      "Test accuracy: 0.56804\n"
     ]
    }
   ],
   "source": [
    "test_loss, test_acc = model.evaluate(x_test, y_test)\n",
    "print('Test accuracy:', test_acc)"
   ]
  },
  {
   "cell_type": "markdown",
   "metadata": {},
   "source": [
    "#### LSTM"
   ]
  },
  {
   "cell_type": "code",
   "execution_count": 12,
   "metadata": {},
   "outputs": [
    {
     "name": "stdout",
     "output_type": "stream",
     "text": [
      "_________________________________________________________________\n",
      "Layer (type)                 Output Shape              Param #   \n",
      "=================================================================\n",
      "embedding_2 (Embedding)      (None, None, 100)         1000000   \n",
      "_________________________________________________________________\n",
      "lstm_1 (LSTM)                (None, 100)               80400     \n",
      "_________________________________________________________________\n",
      "dense_3 (Dense)              (None, 1)                 101       \n",
      "=================================================================\n",
      "Total params: 1,080,501\n",
      "Trainable params: 80,501\n",
      "Non-trainable params: 1,000,000\n",
      "_________________________________________________________________\n"
     ]
    }
   ],
   "source": [
    "from keras.models import Sequential\n",
    "from keras.layers import Embedding, LSTM, Dense\n",
    "model = Sequential()\n",
    "model.add(Embedding(max_words, embedding_dim))\n",
    "model.add(LSTM(embedding_dim))\n",
    "model.add(Dense(1, activation='sigmoid'))\n",
    "# load the GloVe embeddings in the model\n",
    "model.layers[0].set_weights([embedding_matrix])\n",
    "model.layers[0].trainable = False\n",
    "\n",
    "model.summary()"
   ]
  },
  {
   "cell_type": "code",
   "execution_count": 13,
   "metadata": {},
   "outputs": [
    {
     "name": "stdout",
     "output_type": "stream",
     "text": [
      "Train on 20000 samples, validate on 5000 samples\n",
      "Epoch 1/10\n",
      "20000/20000 [==============================] - 84s 4ms/step - loss: 0.6775 - acc: 0.5672 - val_loss: 0.6513 - val_acc: 0.6068\n",
      "Epoch 2/10\n",
      "20000/20000 [==============================] - 67s 3ms/step - loss: 0.6268 - acc: 0.6399 - val_loss: 0.5972 - val_acc: 0.6636\n",
      "Epoch 3/10\n",
      "20000/20000 [==============================] - 63s 3ms/step - loss: 0.5783 - acc: 0.6900 - val_loss: 0.6020 - val_acc: 0.6662\n",
      "Epoch 4/10\n",
      "20000/20000 [==============================] - 62s 3ms/step - loss: 0.5269 - acc: 0.7319 - val_loss: 0.5355 - val_acc: 0.7172\n",
      "Epoch 5/10\n",
      "20000/20000 [==============================] - 62s 3ms/step - loss: 0.4779 - acc: 0.7661 - val_loss: 0.5224 - val_acc: 0.7278\n",
      "Epoch 6/10\n",
      "20000/20000 [==============================] - 67s 3ms/step - loss: 0.4326 - acc: 0.7945 - val_loss: 0.5094 - val_acc: 0.7386\n",
      "Epoch 7/10\n",
      "20000/20000 [==============================] - 65s 3ms/step - loss: 0.3899 - acc: 0.8226 - val_loss: 0.4958 - val_acc: 0.7650\n",
      "Epoch 8/10\n",
      "20000/20000 [==============================] - 66s 3ms/step - loss: 0.3509 - acc: 0.8434 - val_loss: 0.5083 - val_acc: 0.7552\n",
      "Epoch 9/10\n",
      "20000/20000 [==============================] - 66s 3ms/step - loss: 0.3106 - acc: 0.8661 - val_loss: 0.5631 - val_acc: 0.7508\n",
      "Epoch 10/10\n",
      "20000/20000 [==============================] - 65s 3ms/step - loss: 0.2690 - acc: 0.8888 - val_loss: 0.5748 - val_acc: 0.7558\n"
     ]
    }
   ],
   "source": [
    "# compile and train the model\n",
    "model.compile(optimizer='rmsprop',\n",
    "              loss='binary_crossentropy',\n",
    "              metrics=['acc'])\n",
    "history = model.fit(x_train, y_train,\n",
    "                    epochs=10,\n",
    "                    batch_size=32,\n",
    "                    validation_split=0.2)"
   ]
  },
  {
   "cell_type": "code",
   "execution_count": 14,
   "metadata": {},
   "outputs": [
    {
     "data": {
      "image/png": "[encoded data removed]",
      "text/plain": [
       "<matplotlib.figure.Figure at 0x1823e45898>"
      ]
     },
     "metadata": {},
     "output_type": "display_data"
    }
   ],
   "source": [
    "# plot the accuracy rates for each epoch on training and validation data\n",
    "acc = history.history['acc']\n",
    "val_acc = history.history['val_acc']\n",
    "epochs = range(1, len(acc) + 1)\n",
    "plt.plot(epochs, acc, 'bo', label='Training acc')\n",
    "plt.plot(epochs, val_acc, 'b', label='Validation acc')\n",
    "plt.title('Training and validation accuracy')\n",
    "plt.legend()\n",
    "plt.show()"
   ]
  },
  {
   "cell_type": "code",
   "execution_count": 15,
   "metadata": {},
   "outputs": [
    {
     "name": "stdout",
     "output_type": "stream",
     "text": [
      "25000/25000 [==============================] - 24s 961us/step\n",
      "Test accuracy: 0.75644\n"
     ]
    }
   ],
   "source": [
    "test_loss, test_acc = model.evaluate(x_test, y_test)\n",
    "print('Test accuracy:', test_acc)"
   ]
  },
  {
   "cell_type": "code",
   "execution_count": null,
   "metadata": {
    "collapsed": true
   },
   "outputs": [],
   "source": []
  }
 ],
 "metadata": {
  "anaconda-cloud": {},
  "kernelspec": {
   "display_name": "Python 3",
   "language": "python",
   "name": "python3"
  },
  "language_info": {
   "codemirror_mode": {
    "name": "ipython",
    "version": 3
   },
   "file_extension": ".py",
   "mimetype": "text/x-python",
   "name": "python",
   "nbconvert_exporter": "python",
   "pygments_lexer": "ipython3",
   "version": "3.6.3"
  }
 },
 "nbformat": 4,
 "nbformat_minor": 1
}
