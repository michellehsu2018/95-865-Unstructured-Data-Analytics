{
 "cells": [
  {
   "cell_type": "markdown",
   "metadata": {},
   "source": [
    "# 95-865: Model Validation\n",
    "\n",
    "Author: George H. Chen (georgechen [at symbol] cmu.edu)"
   ]
  },
  {
   "cell_type": "markdown",
   "metadata": {},
   "source": [
    "One of the most important things you should get out of this class is how to assess how good different prediction methods are at a particular prediction task. Strangely enough, we do this by solving another prediction problem: for a given method, we predict how well it should do on test data that you don't get access to ahead of time!\n",
    "\n",
    "For example, for two methods A and B, we can predict their errors on the test set, and whichever one has lower *predicted* error is the one that we choose to use.\n",
    "\n",
    "Using this same idea, for a method with hyperparameters, we can try various values of the hyperparameter (you can think of it as if we are choosing between, say, 5 different values that the hyperparameter can be, then it's like choosing between 5 methods!). For each hyperparameter setting that we try, we can predict the error the method would have on the test set. Then we go with whichever hyperparameter setting resulted in the lowest *predicted* error.\n",
    "\n",
    "Note that the *predicted* error might not accurately correspond to the true error on the test set! (For example, I mentioned in lecture that if you're trying to choose between substantially more methods than there are training data, you are very likely to \"overfit\" the training data, meaning that you will find a method that seems to have an unrealistically low *predicted* error that dramatically underestimates the true error, and you end up choosing a lousy method that does not generalize well to the actual unseen test data!)\n",
    "\n",
    "---"
   ]
  },
  {
   "cell_type": "markdown",
   "metadata": {},
   "source": [
    "We begin with some usual boilerplate importing for setting up inline plotting:"
   ]
  },
  {
   "cell_type": "code",
   "execution_count": 1,
   "metadata": {
    "collapsed": true
   },
   "outputs": [],
   "source": [
    "%matplotlib inline\n",
    "import matplotlib.pyplot as plt\n",
    "import numpy as np\n",
    "\n",
    "# the lines below are just for aesthetics\n",
    "plt.style.use('ggplot')  # if you want your plot to look at ggplot (like how R makes plots)\n",
    "%config InlineBackend.figure_format = 'retina'  # if you use a Mac with Retina display"
   ]
  },
  {
   "cell_type": "markdown",
   "metadata": {},
   "source": [
    "## Data preparation"
   ]
  },
  {
   "cell_type": "markdown",
   "metadata": {},
   "source": [
    "Next, we load in the MNIST handwritten digit dataset. This dataset consists of 60,000 labeled images to train on (the labels are the true digits the images correspond to, e.g., 0, 1, 2, ..., 9), and 10,000 labeled images to test on. Each image is stored as a 28-by-28 numpy array (correspond to 28-by-28 pixel images), where each value is between 0 and 255 (0 being background, and 255 being foreground, but there are shades in between).\n",
    "\n",
    "**Warning:** The MNIST dataset neatly specifies what images are training data and which images are test data. In real-world situations, often times you will *not* be told what to use as training vs test data, and you are instead just given a single labeled dataset. In this case, *you* have to decide how to split up the data into train and test. There is no universal one-size-fits-all answer for how to do the splitting. Depending on the kind of data you are working with, it could even be that you only need 1% of the data to use as training data, whereas in many other cases, you might need something more like 70-80% of the data to use as training data."
   ]
  },
  {
   "cell_type": "code",
   "execution_count": 2,
   "metadata": {},
   "outputs": [
    {
     "name": "stderr",
     "output_type": "stream",
     "text": [
      "Using TensorFlow backend.\n"
     ]
    },
    {
     "name": "stdout",
     "output_type": "stream",
     "text": [
      "Downloading data from https://s3.amazonaws.com/img-datasets/mnist.npz\n",
      "11493376/11490434 [==============================] - 4s 0us/step\n"
     ]
    }
   ],
   "source": [
    "from keras.datasets import mnist\n",
    "\n",
    "(train_images, train_labels), (test_images, test_labels) = mnist.load_data()"
   ]
  },
  {
   "cell_type": "markdown",
   "metadata": {},
   "source": [
    "We can check the sizes of the train and test sets:"
   ]
  },
  {
   "cell_type": "code",
   "execution_count": 3,
   "metadata": {},
   "outputs": [
    {
     "name": "stdout",
     "output_type": "stream",
     "text": [
      "(60000, 28, 28)\n"
     ]
    }
   ],
   "source": [
    "print(train_images.shape)"
   ]
  },
  {
   "cell_type": "code",
   "execution_count": 4,
   "metadata": {},
   "outputs": [
    {
     "name": "stdout",
     "output_type": "stream",
     "text": [
      "(10000, 28, 28)\n"
     ]
    }
   ],
   "source": [
    "print(test_images.shape)"
   ]
  },
  {
   "cell_type": "markdown",
   "metadata": {},
   "source": [
    "You can take a look at what an example image looks like:"
   ]
  },
  {
   "cell_type": "code",
   "execution_count": 5,
   "metadata": {},
   "outputs": [
    {
     "data": {
      "text/plain": [
       "<matplotlib.image.AxesImage at 0x1119696d8>"
      ]
     },
     "execution_count": 5,
     "metadata": {},
     "output_type": "execute_result"
    },
    {
     "data": {
      "image/png": "[encoded data removed]",
      "text/plain": [
       "<matplotlib.figure.Figure at 0x1118870b8>"
      ]
     },
     "metadata": {
      "image/png": {
       "height": 250,
       "width": 253
      }
     },
     "output_type": "display_data"
    }
   ],
   "source": [
    "plt.imshow(train_images[5], cmap='gray')"
   ]
  },
  {
   "cell_type": "code",
   "execution_count": 6,
   "metadata": {
    "scrolled": true
   },
   "outputs": [
    {
     "data": {
      "text/plain": [
       "2"
      ]
     },
     "execution_count": 6,
     "metadata": {},
     "output_type": "execute_result"
    }
   ],
   "source": [
    "train_labels[5]"
   ]
  },
  {
   "cell_type": "markdown",
   "metadata": {},
   "source": [
    "For simplicity, since the datasets are a little bit for the purposes of this demo, I'm going to take a subsample:"
   ]
  },
  {
   "cell_type": "code",
   "execution_count": 7,
   "metadata": {
    "collapsed": true
   },
   "outputs": [],
   "source": [
    "train_images = train_images[:2000]\n",
    "train_labels = train_labels[:2000]\n",
    "test_images = test_images[:500]\n",
    "test_labels = test_labels[:500]"
   ]
  },
  {
   "cell_type": "markdown",
   "metadata": {},
   "source": [
    "Next, note that each image is stored as a 28-by-28 array of numbers. We want to flatten this out into a single-dimensional array, meaning a row vector that has 28 * 28 = 784 values. We can do this as follows:"
   ]
  },
  {
   "cell_type": "code",
   "execution_count": 8,
   "metadata": {
    "collapsed": true
   },
   "outputs": [],
   "source": [
    "flattened_train_images = train_images.reshape(len(train_images), -1)  # flattens out each training image \n",
    "#reshape(len(train_images), -1): -1 is numpy's way of saying \n",
    "flattened_test_images = test_images.reshape(len(test_images), -1)  # flattens out each test image"
   ]
  },
  {
   "cell_type": "markdown",
   "metadata": {},
   "source": [
    "Also, we normalize the images so that the values are between 0 and 1 instead of 0 and 255. Many machine learning methods can work better if numbers are close to 0."
   ]
  },
  {
   "cell_type": "code",
   "execution_count": 9,
   "metadata": {
    "collapsed": true
   },
   "outputs": [],
   "source": [
    "flattened_train_images = flattened_train_images.astype(np.float32) / 255  # rescale to be between 0 and 1\n",
    "flattened_test_images = flattened_test_images.astype(np.float32) / 255  # rescale to be between 0 and 1"
   ]
  },
  {
   "cell_type": "code",
   "execution_count": 10,
   "metadata": {},
   "outputs": [
    {
     "name": "stdout",
     "output_type": "stream",
     "text": [
      "(2000, 784)\n"
     ]
    }
   ],
   "source": [
    "print(flattened_train_images.shape)"
   ]
  },
  {
   "cell_type": "code",
   "execution_count": 11,
   "metadata": {},
   "outputs": [
    {
     "name": "stdout",
     "output_type": "stream",
     "text": [
      "(500, 784)\n"
     ]
    }
   ],
   "source": [
    "print(flattened_test_images.shape)"
   ]
  },
  {
   "cell_type": "markdown",
   "metadata": {},
   "source": [
    "## Prediction"
   ]
  },
  {
   "cell_type": "markdown",
   "metadata": {},
   "source": [
    "I first show how to use a $C$-SVM classifier using sklearn (I choose $C=1$ for now). For simplicity I fit on all the training data. I then predict on the *training* data (we want to eventually look at the test data, but following good practice when it comes to data, **you should not look at the test data until towards the end of your analysis**).\n",
    "\n",
    "You can sort of think of this setup as follows: the test set is a take-home exam with an answer key (that you're not supposed to look at, but it's actually there for you, with the idea that you self-grade). The training set is a collection of practice exams with answer keys. You can do whatever you want with the training set to prepare, and to guess how well you will do on the test set, but you should definitely not use anything from the test data to help your preparation! (That would be cheating!)\n",
    "\n",
    "To use a classifier in sklearn is like everything else in sklearn: you import the class you want to use, create an instance of it (and specify parameters), and then call `fit`, where now when we do the fitting, we have to specify both the feature vectors and their corresponding labels."
   ]
  },
  {
   "cell_type": "code",
   "execution_count": 12,
   "metadata": {},
   "outputs": [
    {
     "data": {
      "text/plain": [
       "SVC(C=1, cache_size=200, class_weight=None, coef0=0.0,\n",
       "  decision_function_shape='ovr', degree=3, gamma='auto', kernel='rbf',\n",
       "  max_iter=-1, probability=False, random_state=None, shrinking=True,\n",
       "  tol=0.001, verbose=False)"
      ]
     },
     "execution_count": 12,
     "metadata": {},
     "output_type": "execute_result"
    }
   ],
   "source": [
    "from sklearn.svm import SVC\n",
    "classifier = SVC(C=1)\n",
    "classifier.fit(flattened_train_images, train_labels)"
   ]
  },
  {
   "cell_type": "code",
   "execution_count": 13,
   "metadata": {
    "collapsed": true
   },
   "outputs": [],
   "source": [
    "predicted_train_labels = classifier.predict(flattened_train_images)"
   ]
  },
  {
   "cell_type": "code",
   "execution_count": 14,
   "metadata": {},
   "outputs": [
    {
     "data": {
      "text/plain": [
       "array([5, 0, 4, ..., 5, 2, 0], dtype=uint8)"
      ]
     },
     "execution_count": 14,
     "metadata": {},
     "output_type": "execute_result"
    }
   ],
   "source": [
    "predicted_train_labels"
   ]
  },
  {
   "cell_type": "code",
   "execution_count": 15,
   "metadata": {},
   "outputs": [
    {
     "name": "stdout",
     "output_type": "stream",
     "text": [
      "0.092\n"
     ]
    }
   ],
   "source": [
    "error_rate = np.mean(predicted_train_labels != train_labels)\n",
    "print(error_rate)"
   ]
  },
  {
   "cell_type": "markdown",
   "metadata": {},
   "source": [
    "## Choosing hyperparameter $C$ using simple data splitting\n",
    "\n",
    "In the code above, I set $C=1$. How do we choose $C$? The simplest way is to just divide up the training data into a smaller training set and a validation set. Put another way, we're just splitting up the data so that now some of it (namely the validation set) is being treated as \"test\" data even though it's not actually the test data. We train on the new smaller training set and test on the validation set. We repeat this for different values of $C$ and pick whichever value of $C$ results in the lowest error on the validation set. Effectively we are using the error on the validation set to predict what the error might be for the true test set that we don't get to see!"
   ]
  },
  {
   "cell_type": "code",
   "execution_count": 16,
   "metadata": {
    "collapsed": true
   },
   "outputs": [],
   "source": [
    "np.random.seed(95865)  # make randomness deterministic (otherwise re-running the notebook will give different results)\n",
    "num_train_images = len(flattened_train_images)\n",
    "shuffled_indices = np.random.permutation(num_train_images)\n",
    "\n",
    "train_frac = 0.7\n",
    "smaller_train_indices = shuffled_indices[:int(train_frac*num_train_images)]\n",
    "validation_indices = shuffled_indices[int(train_frac*num_train_images):]"
   ]
  },
  {
   "cell_type": "code",
   "execution_count": 17,
   "metadata": {},
   "outputs": [
    {
     "name": "stdout",
     "output_type": "stream",
     "text": [
      "C: 0.01 error rate: 0.906666666667\n",
      "C: 0.1 error rate: 0.695\n",
      "C: 1 error rate: 0.128333333333\n",
      "C: 10 error rate: 0.0983333333333\n",
      "C: 100 error rate: 0.105\n",
      "C: 1000 error rate: 0.103333333333\n",
      "Best C: 10 error rate: 0.0983333333333\n"
     ]
    }
   ],
   "source": [
    "lowest_error = np.inf\n",
    "best_C = None\n",
    "for C in [1e-2, 1e-1, 1, 10, 100, 1000]:\n",
    "    classifier = SVC(C=C)\n",
    "    classifier.fit(flattened_train_images[smaller_train_indices],\n",
    "                   train_labels[smaller_train_indices])\n",
    "    predicted_val_labels = classifier.predict(flattened_train_images[validation_indices])\n",
    "    error = np.mean(predicted_val_labels != train_labels[validation_indices])\n",
    "    print('C:', C, 'error rate:', error)\n",
    "    \n",
    "    if error < lowest_error:\n",
    "        lowest_error = error\n",
    "        best_C = C\n",
    "\n",
    "print('Best C:', best_C, 'error rate:', lowest_error)"
   ]
  },
  {
   "cell_type": "markdown",
   "metadata": {},
   "source": [
    "## Choosing hyperparameter $C$ using $k$-fold cross validation\n",
    "\n",
    "Simple data splitting is easy to do. However, the drawback is that depending on the validation set that is typically randomly chosen, we can get quite different predictions for what the validation error is for each hyperparameter choice. One strategy to combat this is to actually, for each hyperparameter choice, try many different validation sets rather than only 1. A popular way of choosing validation sets so that every training data point gets used at some point within a validation set once is $k$-fold cross validation. Per hyperparameter setting, we now use $k$ different validation sets corresponding to the folds (see lecture slides for how this works).\n",
    "\n",
    "The drawback of using cross validation compared to data splitting, which is immediately apparent in code, is that it's more expensive: we have another for loop over the cross validation folds, and so the amount of models we need to fit gets multiplied by the number of folds. This can be extremely expensive if model fitting is costly!"
   ]
  },
  {
   "cell_type": "code",
   "execution_count": 19,
   "metadata": {},
   "outputs": [
    {
     "name": "stdout",
     "output_type": "stream",
     "text": [
      "C: 0.01 cross validation error: 0.906\n",
      "C: 0.1 cross validation error: 0.586\n",
      "C: 1 cross validation error: 0.1165\n",
      "C: 10 cross validation error: 0.08449999999999999\n",
      "C: 100 cross validation error: 0.092\n",
      "C: 1000 cross validation error: 0.09099999999999998\n",
      "Best C: 10 cross validation error: 0.08449999999999999\n"
     ]
    }
   ],
   "source": [
    "from sklearn.model_selection import KFold\n",
    "\n",
    "lowest_cross_val_error = np.inf\n",
    "best_C = None\n",
    "\n",
    "indices = range(num_train_images)\n",
    "kf = KFold(n_splits=5, shuffle=True, random_state=95865)\n",
    "for C in [1e-2, 1e-1, 1, 10, 100, 1000]:\n",
    "    errors = []\n",
    "    for train_indices, val_indices in kf.split(indices):\n",
    "        classifier = SVC(C=C)\n",
    "        classifier.fit(flattened_train_images[train_indices],\n",
    "                       train_labels[train_indices])\n",
    "        predicted_val_labels = classifier.predict(flattened_train_images[val_indices])\n",
    "        error = np.mean(predicted_val_labels != train_labels[val_indices])\n",
    "        errors.append(error)\n",
    "        \n",
    "    cross_val_error = np.mean(errors)\n",
    "    print('C:', C, 'cross validation error:', cross_val_error)\n",
    "\n",
    "    if cross_val_error < lowest_cross_val_error:\n",
    "        lowest_cross_val_error = cross_val_error\n",
    "        best_C = C\n",
    "\n",
    "print('Best C:', best_C, 'cross validation error:', lowest_cross_val_error)"
   ]
  },
  {
   "cell_type": "markdown",
   "metadata": {},
   "source": [
    "## Using different classifiers"
   ]
  },
  {
   "cell_type": "markdown",
   "metadata": {},
   "source": [
    "The above code works if we swap out the $C$-SVM classifier for a different classifier that has some different hyperparameter(s). For example, see if you can figure out how to use data splitting and 5-fold cross validation to choose the number of trees to use with a random forest. I show below how to train a random forest and then I predict on the training set:"
   ]
  },
  {
   "cell_type": "code",
   "execution_count": 18,
   "metadata": {},
   "outputs": [
    {
     "name": "stdout",
     "output_type": "stream",
     "text": [
      "0.0\n"
     ]
    }
   ],
   "source": [
    "from sklearn.ensemble import RandomForestClassifier\n",
    "rf_classifier = RandomForestClassifier(n_estimators=50, random_state=95865)  # n_estimators is the number of trees\n",
    "rf_classifier.fit(flattened_train_images, train_labels)\n",
    "rf_predicted_train_labels = rf_classifier.predict(flattened_train_images)\n",
    "rf_error = np.mean(rf_predicted_train_labels != train_labels)\n",
    "print(rf_error)"
   ]
  },
  {
   "cell_type": "markdown",
   "metadata": {},
   "source": [
    "Remarkable: a training error of 0! Of course, this is clearly an overfit."
   ]
  },
  {
   "cell_type": "markdown",
   "metadata": {},
   "source": [
    "## Finally actually looking at the test data\n",
    "\n",
    "Once you've done everything you want to do with the training data (namely trying whatever prediction methods you want to try, and for each one picking the best parameters using, say, cross validation), you can then use each method (with the best parameters from cross validation on training data) to predict on the test data and report the method's  error on the test set. We show how to do this for $C$-SVM using the best value of $C$ determined above:"
   ]
  },
  {
   "cell_type": "code",
   "execution_count": 19,
   "metadata": {},
   "outputs": [
    {
     "name": "stdout",
     "output_type": "stream",
     "text": [
      "0.106\n"
     ]
    }
   ],
   "source": [
    "from sklearn.svm import SVC\n",
    "final_svm_classifier = SVC(C=best_C)\n",
    "final_svm_classifier.fit(flattened_train_images, train_labels)\n",
    "predicted_test_labels = final_svm_classifier.predict(flattened_test_images)\n",
    "test_set_error = np.mean(predicted_test_labels != test_labels)\n",
    "print(test_set_error)"
   ]
  },
  {
   "cell_type": "markdown",
   "metadata": {},
   "source": [
    "Note that in general the cross validation error is not going to perfectly match up with the test set error."
   ]
  }
 ],
 "metadata": {
  "kernelspec": {
   "display_name": "Python 3",
   "language": "python",
   "name": "python3"
  },
  "language_info": {
   "codemirror_mode": {
    "name": "ipython",
    "version": 3
   },
   "file_extension": ".py",
   "mimetype": "text/x-python",
   "name": "python",
   "nbconvert_exporter": "python",
   "pygments_lexer": "ipython3",
   "version": "3.6.3"
  }
 },
 "nbformat": 4,
 "nbformat_minor": 2
}
